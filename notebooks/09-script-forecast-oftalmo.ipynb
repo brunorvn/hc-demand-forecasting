{
 "cells": [
  {
   "cell_type": "code",
   "execution_count": 1,
   "metadata": {},
   "outputs": [],
   "source": [
    "import numpy as np\n",
    "import pandas as pd\n",
    "import matplotlib.pyplot as plt\n",
    "import os\n",
    "\n",
    "import seaborn as sns\n",
    "sns.set_theme(style=\"darkgrid\")\n"
   ]
  },
  {
   "cell_type": "code",
   "execution_count": 2,
   "metadata": {},
   "outputs": [
    {
     "data": {
      "text/plain": [
       "(                          unique_id          ds  y\n",
       " 0  0201010097 BIOPSIA DE CONJUNTIVA  2017-10-01  0\n",
       " 1  0201010097 BIOPSIA DE CONJUNTIVA  2017-11-01  0\n",
       " 2  0201010097 BIOPSIA DE CONJUNTIVA  2017-12-01  2\n",
       " 3  0201010097 BIOPSIA DE CONJUNTIVA  2018-01-01  0\n",
       " 4  0201010097 BIOPSIA DE CONJUNTIVA  2018-02-01  0,\n",
       " (5475, 3))"
      ]
     },
     "execution_count": 2,
     "metadata": {},
     "output_type": "execute_result"
    }
   ],
   "source": [
    "df = pd.read_csv(r\"C:\\Users\\brvn\\Documents\\github\\hc-demand-forecasting\\data\\interim\\oftalmo_ts.csv\")\n",
    "df.head(), df.shape"
   ]
  },
  {
   "cell_type": "markdown",
   "metadata": {},
   "source": [
    "Filtrar no dataframe os procedimentos sub utilizados."
   ]
  },
  {
   "cell_type": "code",
   "execution_count": null,
   "metadata": {},
   "outputs": [],
   "source": [
    "def filter_dataframe(df)-> pd.DataFrame:\n",
    "    ref_date = pd.to_datetime('2022-09-01')\n",
    "    \n",
    "    filtered_df = df[df['ds'] >= ref_date]\n",
    "    \n",
    "    inactives = filtered_df.groupby('unique_id', observed=False)['y'].all()[lambda x: x == 0].index.tolist()\n",
    "    print(inactives)\n",
    "    actives_df = df[~df['unique_id'].isin(inactives)]\n",
    "    return actives_df\n"
   ]
  },
  {
   "cell_type": "code",
   "execution_count": null,
   "metadata": {},
   "outputs": [],
   "source": [
    "df = filter_dataframe(df)\n"
   ]
  },
  {
   "cell_type": "code",
   "execution_count": null,
   "metadata": {},
   "outputs": [],
   "source": [
    "# Identify and remove the COVID-19 period\n",
    "covid_start_date = pd.to_datetime('2020-03-01')\n",
    "covid_end_date = pd.to_datetime('2021-06-01')\n",
    "df = df.loc[~((df['ds'] >= covid_start_date) & (df['ds'] <= covid_end_date))]\n"
   ]
  },
  {
   "cell_type": "code",
   "execution_count": null,
   "metadata": {},
   "outputs": [],
   "source": [
    "df = df.set_index('unique_id')"
   ]
  },
  {
   "cell_type": "code",
   "execution_count": null,
   "metadata": {},
   "outputs": [],
   "source": [
    "from statsforecast.models import (\n",
    "    AutoARIMA,\n",
    "    AutoETS\n",
    ")\n",
    "from statsforecast import StatsForecast\n",
    "\n",
    "models= [\n",
    "    AutoARIMA(season_length=12),\n",
    "    AutoETS(season_length=12)\n",
    "]\n",
    "\n",
    "# Instantiate StatsForecast class as sf\n",
    "sf = StatsForecast(\n",
    "    df=df, \n",
    "    models=models,\n",
    "    freq='MS',\n",
    "    verbose=True,   \n",
    ")"
   ]
  },
  {
   "cell_type": "code",
   "execution_count": null,
   "metadata": {},
   "outputs": [],
   "source": [
    "forecast_df = sf.forecast(h=12, level=[90])\n"
   ]
  },
  {
   "cell_type": "code",
   "execution_count": null,
   "metadata": {},
   "outputs": [],
   "source": [
    "sf.plot(df, forecast_df, engine='matplotlib')"
   ]
  },
  {
   "cell_type": "code",
   "execution_count": null,
   "metadata": {},
   "outputs": [],
   "source": [
    "crossvaldation_df = sf.cross_validation(\n",
    "    df=df,\n",
    "    h=12,\n",
    "    step_size=12,\n",
    "    n_windows=2,\n",
    "    sort_df=True,\n",
    "  )"
   ]
  },
  {
   "cell_type": "code",
   "execution_count": null,
   "metadata": {},
   "outputs": [],
   "source": [
    "crossvaldation_df.head()"
   ]
  },
  {
   "cell_type": "code",
   "execution_count": null,
   "metadata": {},
   "outputs": [],
   "source": [
    "from utilsforecast.losses import mse\n",
    "from utilsforecast.evaluation import evaluate\n",
    "\n",
    "def evaluate_cross_validation(df, metric):\n",
    "    models = df.drop(columns=['unique_id', 'ds', 'cutoff', 'y']).columns.tolist()\n",
    "    evals = []\n",
    "    # Calculate loss for every unique_id and cutoff.    \n",
    "    for cutoff in df['cutoff'].unique():\n",
    "        eval_ = evaluate(df[df['cutoff'] == cutoff], metrics=[metric], models=models)\n",
    "        evals.append(eval_)\n",
    "    evals = pd.concat(evals)\n",
    "    evals = evals.groupby('unique_id', observed=False).mean(numeric_only=True) # Averages the error metrics for all cutoffs for every combination of model and unique_id\n",
    "    evals['best_model'] = evals.idxmin(axis=1)\n",
    "    return evals"
   ]
  },
  {
   "cell_type": "code",
   "execution_count": null,
   "metadata": {},
   "outputs": [],
   "source": [
    "evaluation_df = evaluate_cross_validation(crossvaldation_df.reset_index(), mse)\n",
    "\n",
    "evaluation_df.head()"
   ]
  },
  {
   "cell_type": "code",
   "execution_count": null,
   "metadata": {},
   "outputs": [],
   "source": [
    "#Criando um sumário dos melhores modelos\n",
    "summary_df = evaluation_df.groupby('best_model').size().sort_values().to_frame()\n",
    "\n",
    "summary_df.reset_index().columns = [\"Model\", \"Nr. of unique_ids\"]\n",
    "\n",
    "# autoets_ids = evaluation_df.query('best_model == \"AutoETS\"').index\n",
    "# autoarima_ids = evaluation_df.query('best_model == \"AutoARIMA\"').index"
   ]
  },
  {
   "cell_type": "code",
   "execution_count": null,
   "metadata": {},
   "outputs": [],
   "source": [
    "autoarima_ids = evaluation_df.query('best_model == \"AutoARIMA\"').index\n",
    "sf.plot(df=df,forecasts_df=forecast_df, unique_ids=autoarima_ids, engine='matplotlib')"
   ]
  },
  {
   "cell_type": "code",
   "execution_count": null,
   "metadata": {},
   "outputs": [],
   "source": [
    "autoets_ids = evaluation_df.query('best_model == \"AutoETS\"').index\n",
    "sf.plot(df=df, forecasts_df=forecast_df, unique_ids=autoets_ids, engine='matplotlib')"
   ]
  },
  {
   "cell_type": "code",
   "execution_count": null,
   "metadata": {},
   "outputs": [],
   "source": [
    "def get_best_model_forecast(forecasts_df, evaluation_df):\n",
    "    df = forecasts_df.set_index('ds', append=True).stack().to_frame().reset_index(level=2) # Wide to long \n",
    "    df.columns = ['model', 'best_model_forecast'] \n",
    "    df = df.join(evaluation_df[['best_model']])\n",
    "    df = df.query('model.str.replace(\"-lo-90|-hi-90\", \"\", regex=True) == best_model').copy()\n",
    "    df.loc[:, 'model'] = [model.replace(bm, 'best_model') for model, bm in zip(df['model'], df['best_model'])]\n",
    "    df = df.drop(columns='best_model').set_index('model', append=True).unstack()\n",
    "    df.columns = df.columns.droplevel()\n",
    "    df = df.reset_index(level=1)\n",
    "    return df"
   ]
  },
  {
   "cell_type": "code",
   "execution_count": null,
   "metadata": {},
   "outputs": [],
   "source": [
    "prod_forecasts_df = get_best_model_forecast(forecast_df, evaluation_df)\n",
    "sf.plot(df, prod_forecasts_df, level=[90], engine='matplotlib')"
   ]
  },
  {
   "cell_type": "code",
   "execution_count": null,
   "metadata": {},
   "outputs": [],
   "source": [
    "prod_forecasts_df.to_csv(\"covid-forecasted-df.csv\", float_format=\"%d\")"
   ]
  },
  {
   "cell_type": "code",
   "execution_count": null,
   "metadata": {},
   "outputs": [],
   "source": [
    "# Visualize the final time series\n",
    "plt.figure(figsize=(10, 6))\n",
    "sns.lineplot(\n",
    "    x=\"ds\", y=\"y\",\n",
    "    hue=\"unique_id\", \n",
    "    # style=\"unique_id\",\n",
    "    data=df, \n",
    "    legend=False\n",
    ")"
   ]
  }
 ],
 "metadata": {
  "kernelspec": {
   "display_name": "meutcc",
   "language": "python",
   "name": "python3"
  },
  "language_info": {
   "codemirror_mode": {
    "name": "ipython",
    "version": 3
   },
   "file_extension": ".py",
   "mimetype": "text/x-python",
   "name": "python",
   "nbconvert_exporter": "python",
   "pygments_lexer": "ipython3",
   "version": "3.11.5"
  }
 },
 "nbformat": 4,
 "nbformat_minor": 2
}
